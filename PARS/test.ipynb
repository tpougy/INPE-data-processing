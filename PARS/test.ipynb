{
 "cells": [
  {
   "cell_type": "code",
   "execution_count": 30,
   "metadata": {},
   "outputs": [],
   "source": [
    "import pandas as pd\n",
    "import utils\n",
    "import json"
   ]
  },
  {
   "cell_type": "code",
   "execution_count": 27,
   "metadata": {},
   "outputs": [],
   "source": [
    "with open(\"Parsivel2_ATTO_Campina_20211125\") as f:\n",
    "    idx_lines = [int(l[0:2]) for l in f if l[0:2] != \"\\n\"]\n",
    "    f.seek(0)\n",
    "    lines = [{\"idx\":int(l[0:2]),\"value\":l[3:-1]} for l in f if l[0:2] != \"\\n\"]"
   ]
  },
  {
   "cell_type": "code",
   "execution_count": 24,
   "metadata": {},
   "outputs": [],
   "source": [
    "# reading auxiliar data\n",
    "with open(r\".\\input\\PARS\\support\\variables_info.json\", \"r\") as xfile:\n",
    "    variables_info_file = xfile.read()\n",
    "variables_info = json.loads(variables_info_file)"
   ]
  },
  {
   "cell_type": "code",
   "execution_count": 7,
   "metadata": {},
   "outputs": [],
   "source": [
    "init_mask =[1]\n",
    "init_positions = utils.find_sub_list(init_mask, idx_lines)"
   ]
  },
  {
   "cell_type": "code",
   "execution_count": 8,
   "metadata": {},
   "outputs": [],
   "source": [
    "var_interest = [1,7,9,13,20+21,25,93]\n",
    "var_essential = [9, 20+21, 25, 93]"
   ]
  },
  {
   "cell_type": "code",
   "execution_count": 28,
   "metadata": {},
   "outputs": [],
   "source": [
    "i = 0\n",
    "var_comp = []\n",
    "\n",
    "for i_pos in init_positions[1:]:\n",
    "    var_iteration = [None for _ in var_interest]\n",
    "\n",
    "    while i < i_pos:\n",
    "        if lines[i][\"idx\"] == 1:\n",
    "            var_iteration[0] = utils.parse_ri(lines[i][\"value\"])\n",
    "        elif lines[i][\"idx\"] == 7:\n",
    "            var_iteration[1] = utils.parse_z(lines[i][\"value\"])\n",
    "        elif lines[i][\"idx\"] == 9:\n",
    "            var_iteration[2] = utils.parse_sample_interval(lines[i][\"value\"])\n",
    "        elif lines[i][\"idx\"] == 13:\n",
    "            var_iteration[3] = utils.parse_serial(lines[i][\"value\"])\n",
    "        elif lines[i][\"idx\"] == 20:\n",
    "            time_aux = lines[i][\"value\"]\n",
    "        elif lines[i][\"idx\"] == 21:\n",
    "            date_aux = lines[i][\"value\"]\n",
    "            var_iteration[4] = utils.parse_datetime(f\"{date_aux} {time_aux}\")\n",
    "        elif lines[i][\"idx\"] == 25:\n",
    "            var_iteration[5] = utils.parse_erro(lines[i][\"value\"])\n",
    "        elif lines[i][\"idx\"] == 93:\n",
    "            var_iteration[6] = utils.parse_vpd(lines[i][\"value\"], variables_info['vpd_mask'])\n",
    "\n",
    "        i+=1\n",
    "        \n",
    "    # Check if any essential variable is none in the block\n",
    "    if None in [var_iteration[2], var_iteration[4], var_iteration[5], var_iteration[6]]:\n",
    "        var_comp.append([None for _ in var_interest])\n",
    "    else:\n",
    "        var_comp.append(var_iteration)\n"
   ]
  },
  {
   "cell_type": "code",
   "execution_count": null,
   "metadata": {},
   "outputs": [],
   "source": [
    "pd.DataFrame.from_records(var_comp, columns=[\"col1\", \"col2\", \"col3\"])"
   ]
  }
 ],
 "metadata": {
  "interpreter": {
   "hash": "a4a92bca0c6ef886a93c3ee5ec0154b4c7b857574c861d62162ec67a9d31799d"
  },
  "kernelspec": {
   "display_name": "Python 3.9.10 64-bit ('.venv-inpe': venv)",
   "language": "python",
   "name": "python3"
  },
  "language_info": {
   "codemirror_mode": {
    "name": "ipython",
    "version": 3
   },
   "file_extension": ".py",
   "mimetype": "text/x-python",
   "name": "python",
   "nbconvert_exporter": "python",
   "pygments_lexer": "ipython3",
   "version": "3.8.10"
  },
  "orig_nbformat": 4
 },
 "nbformat": 4,
 "nbformat_minor": 2
}
